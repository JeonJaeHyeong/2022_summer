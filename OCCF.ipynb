{
 "cells": [
  {
   "cell_type": "code",
   "execution_count": 41,
   "metadata": {},
   "outputs": [],
   "source": [
    "import numpy as np\n",
    "import pandas as pd\n",
    "import load_data as ld\n",
    "from metric import RMSE \n",
    "import copy\n",
    "from timeit import default_timer as timer\n",
    "from sklearn.model_selection import train_test_split\n",
    "import scipy.sparse as sparse\n",
    "from scipy.sparse.linalg import spsolve"
   ]
  },
  {
   "cell_type": "code",
   "execution_count": 73,
   "metadata": {},
   "outputs": [],
   "source": [
    "class implicit_MF():\n",
    "    \n",
    "    def __init__(self, R, latent_size=50, ld=1e-3, epochs=200):\n",
    "        \n",
    "        self._R = R             # explicit matrix\n",
    "        self._P = copy.deepcopy(self._R)    # implicit matrix\n",
    "        self._P[self._P != 0] = 1\n",
    "        self._N, self._M = R.shape\n",
    "        self._latent = latent_size\n",
    "        self._epochs =epochs\n",
    "        self._alpha = 40\n",
    "        self._C = 1 + self._alpha * self._R\n",
    "        self._lambda = ld\n",
    "        \n",
    "        rstate = np.random.RandomState(0)\n",
    "        #self._X = np.random.normal(0, 0.1, size=(self._N, latent_size))\n",
    "        #self._Y = np.random.normal(0, 0.1, size=(self._M, latent_size))\n",
    "        self._X = sparse.csr_matrix(rstate.normal(size=(self._N, latent_size))) # Random numbers in a m x rank shape\n",
    "        self._Y = sparse.csr_matrix(rstate.normal(size=(self._M, latent_size))) # Normally this would be rank x n but we can \n",
    "        \n",
    "    def update(self):\n",
    "\n",
    "        lambda_eye = self._lambda * sparse.eye(self._latent) # Our regularization term lambda*I. \n",
    "        \n",
    "        self._YTY = self._Y.T.dot(self._Y)\n",
    "        for u in range(self._N):\n",
    "            #C_u = np.diag(self._C[u, :])\n",
    "            C_u = sparse.diags(self._C[u, :])\n",
    "            YCu_IY = self._Y.T @ (C_u - np.identity(self._M)) @ self._Y\n",
    "            YCuY = self._YTY + YCu_IY + lambda_eye #self._lambda * np.identity(self._latent)\n",
    "            self._X[u, :] =  spsolve(YCuY, self._Y.T @ C_u @ self._P[u, :] )  #np.linalg.inv(YCuY) @ self._Y.T @ C_u @ self._P[u, :] \n",
    "\n",
    "        self._XTX = self._X.T.dot(self._X)\n",
    "        for i in range(self._M):\n",
    "            #C_i = np.diag(self._C[:, i])\n",
    "            C_i = sparse.diags(self._C[:, i])\n",
    "            XCu_IX = self._X.T @ (C_i - np.identity(self._N)) @ self._X\n",
    "            XCuX = self._XTX + XCu_IX + lambda_eye #self._lambda * np.identity(self._latent)\n",
    "            self._Y[i, :] = spsolve(XCuX, self._X.T @ C_i @ self._P[:, i] )  #np.linalg.inv(XCuX) @ self._X.T @ C_i @ self._P[:, i]\n",
    "            \n",
    "    def cost(self):\n",
    "        loss = np.sum(np.multiply(self._C, np.square(self._P - self._X @ self._Y.T))) + self._lambda * (sparse.linalg.norm(self._X) + sparse.linalg.norm(self._Y))\n",
    "        # (np.linalg.norm(self._X) + np.linalg.norm(self._Y))\n",
    "        return loss\n",
    "\n",
    "    def train(self):\n",
    "        \n",
    "        train_cost_list = []\n",
    "        start_time = timer()\n",
    "        for epoch in range(self._epochs):\n",
    "            start = timer()\n",
    "            \n",
    "            self.update()\n",
    "            train_cost = self.cost()\n",
    "                \n",
    "            train_cost_list.append(train_cost)\n",
    "            \n",
    "            print('traning iteration:{: d} ,train_cost:{: f}, time:{: f}'.format(epoch, train_cost, timer() - start))\n",
    "                \n",
    "        print(\"Total time for training : %.4f\" % (timer()-start_time))\n",
    "        return self._X, self._Y, train_cost_list   "
   ]
  },
  {
   "cell_type": "code",
   "execution_count": 74,
   "metadata": {},
   "outputs": [
    {
     "name": "stdout",
     "output_type": "stream",
     "text": [
      "N, M :  943 1682\n"
     ]
    }
   ],
   "source": [
    "df = ld.load_rating_data()\n",
    "N, M = len(df.user_id.unique()), len(df.item_id.unique())\n",
    "ratio = 0.8\n",
    "print(\"N, M : \", N, M)\n",
    "train, test = train_test_split(df, test_size=1-ratio)\n",
    "val, test = train_test_split(test, test_size=0.5)\n",
    "train.reset_index(drop=True, inplace=True)\n",
    "val.reset_index(drop=True, inplace=True)\n",
    "test.reset_index(drop=True, inplace=True)"
   ]
  },
  {
   "cell_type": "code",
   "execution_count": 75,
   "metadata": {},
   "outputs": [],
   "source": [
    "R = np.zeros([N, M])    \n",
    "for i in range(len(train)):\n",
    "    R[int(train.iloc[i, 0])-1, int(train.iloc[i, 1])-1] = float(train.iloc[i, 2])\n",
    "\n",
    "val_R = np.zeros([N, M])    \n",
    "for i in range(len(val)):\n",
    "    val_R[int(val.iloc[i, 0])-1, int(val.iloc[i, 1])-1] = float(val.iloc[i, 2])"
   ]
  },
  {
   "cell_type": "code",
   "execution_count": 76,
   "metadata": {},
   "outputs": [
    {
     "name": "stdout",
     "output_type": "stream",
     "text": [
      "traning iteration: 0 ,train_cost: 1984287.407967, time: 116.366145\n",
      "traning iteration: 1 ,train_cost: 432024.508232, time: 136.968124\n",
      "traning iteration: 2 ,train_cost: 374468.517915, time: 147.489324\n",
      "traning iteration: 3 ,train_cost: 355206.985009, time: 134.164303\n",
      "traning iteration: 4 ,train_cost: 345692.478932, time: 145.291282\n",
      "traning iteration: 5 ,train_cost: 340081.256200, time: 133.547955\n",
      "traning iteration: 6 ,train_cost: 336382.735209, time: 129.264424\n",
      "traning iteration: 7 ,train_cost: 333759.055570, time: 131.290998\n",
      "traning iteration: 8 ,train_cost: 331815.516734, time: 114.150681\n",
      "traning iteration: 9 ,train_cost: 330331.945661, time: 117.066160\n",
      "Total time for training : 1305.6008\n"
     ]
    },
    {
     "ename": "AttributeError",
     "evalue": "'implicit_MF' object has no attribute '_V'",
     "output_type": "error",
     "traceback": [
      "\u001b[1;31m---------------------------------------------------------------------------\u001b[0m",
      "\u001b[1;31mAttributeError\u001b[0m                            Traceback (most recent call last)",
      "\u001b[1;32mc:\\Users\\ASUS\\Desktop\\KAIST\\KAIST\\개별연구\\논문구현\\OCCF.ipynb Cell 5'\u001b[0m in \u001b[0;36m<cell line: 2>\u001b[1;34m()\u001b[0m\n\u001b[0;32m      <a href='vscode-notebook-cell:/c%3A/Users/ASUS/Desktop/KAIST/KAIST/%EA%B0%9C%EB%B3%84%EC%97%B0%EA%B5%AC/%EB%85%BC%EB%AC%B8%EA%B5%AC%ED%98%84/OCCF.ipynb#ch0000005?line=0'>1</a>\u001b[0m pmf1 \u001b[39m=\u001b[39m implicit_MF(R, latent_size\u001b[39m=\u001b[39m\u001b[39m20\u001b[39m, ld\u001b[39m=\u001b[39m\u001b[39m0.002\u001b[39m, epochs\u001b[39m=\u001b[39m\u001b[39m10\u001b[39m)\n\u001b[1;32m----> <a href='vscode-notebook-cell:/c%3A/Users/ASUS/Desktop/KAIST/KAIST/%EA%B0%9C%EB%B3%84%EC%97%B0%EA%B5%AC/%EB%85%BC%EB%AC%B8%EA%B5%AC%ED%98%84/OCCF.ipynb#ch0000005?line=1'>2</a>\u001b[0m U1, V1, train_rmse_list1, val_rmse_list1 \u001b[39m=\u001b[39m pmf1\u001b[39m.\u001b[39;49mtrain()\n",
      "\u001b[1;32mc:\\Users\\ASUS\\Desktop\\KAIST\\KAIST\\개별연구\\논문구현\\OCCF.ipynb Cell 2'\u001b[0m in \u001b[0;36mimplicit_MF.train\u001b[1;34m(self)\u001b[0m\n\u001b[0;32m     <a href='vscode-notebook-cell:/c%3A/Users/ASUS/Desktop/KAIST/KAIST/%EA%B0%9C%EB%B3%84%EC%97%B0%EA%B5%AC/%EB%85%BC%EB%AC%B8%EA%B5%AC%ED%98%84/OCCF.ipynb#ch0000002?line=57'>58</a>\u001b[0m     \u001b[39mprint\u001b[39m(\u001b[39m'\u001b[39m\u001b[39mtraning iteration:\u001b[39m\u001b[39m{: d}\u001b[39;00m\u001b[39m ,train_cost:\u001b[39m\u001b[39m{: f}\u001b[39;00m\u001b[39m, time:\u001b[39m\u001b[39m{: f}\u001b[39;00m\u001b[39m'\u001b[39m\u001b[39m.\u001b[39mformat(epoch, train_cost, timer() \u001b[39m-\u001b[39m start))\n\u001b[0;32m     <a href='vscode-notebook-cell:/c%3A/Users/ASUS/Desktop/KAIST/KAIST/%EA%B0%9C%EB%B3%84%EC%97%B0%EA%B5%AC/%EB%85%BC%EB%AC%B8%EA%B5%AC%ED%98%84/OCCF.ipynb#ch0000002?line=59'>60</a>\u001b[0m \u001b[39mprint\u001b[39m(\u001b[39m\"\u001b[39m\u001b[39mTotal time for training : \u001b[39m\u001b[39m%.4f\u001b[39;00m\u001b[39m\"\u001b[39m \u001b[39m%\u001b[39m (timer()\u001b[39m-\u001b[39mstart_time))\n\u001b[1;32m---> <a href='vscode-notebook-cell:/c%3A/Users/ASUS/Desktop/KAIST/KAIST/%EA%B0%9C%EB%B3%84%EC%97%B0%EA%B5%AC/%EB%85%BC%EB%AC%B8%EA%B5%AC%ED%98%84/OCCF.ipynb#ch0000002?line=60'>61</a>\u001b[0m \u001b[39mreturn\u001b[39;00m \u001b[39mself\u001b[39m\u001b[39m.\u001b[39m_Y, \u001b[39mself\u001b[39;49m\u001b[39m.\u001b[39;49m_V, train_cost_list\n",
      "\u001b[1;31mAttributeError\u001b[0m: 'implicit_MF' object has no attribute '_V'"
     ]
    }
   ],
   "source": [
    "pmf1 = implicit_MF(R, latent_size=20, ld=0.002, epochs=10)\n",
    "U1, V1, train_rmse_list1, val_rmse_list1 = pmf1.train()"
   ]
  }
 ],
 "metadata": {
  "kernelspec": {
   "display_name": "Python 3.8.10 64-bit (windows store)",
   "language": "python",
   "name": "python3"
  },
  "language_info": {
   "codemirror_mode": {
    "name": "ipython",
    "version": 3
   },
   "file_extension": ".py",
   "mimetype": "text/x-python",
   "name": "python",
   "nbconvert_exporter": "python",
   "pygments_lexer": "ipython3",
   "version": "3.8.10"
  },
  "orig_nbformat": 4,
  "vscode": {
   "interpreter": {
    "hash": "6ea2312a96e00fc4424234a471f608c001e599e03afda339b55d660fc50d3e28"
   }
  }
 },
 "nbformat": 4,
 "nbformat_minor": 2
}
