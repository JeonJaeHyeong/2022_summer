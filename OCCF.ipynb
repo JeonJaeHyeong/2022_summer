{
 "cells": [
  {
   "cell_type": "code",
   "execution_count": 1,
   "metadata": {},
   "outputs": [],
   "source": [
    "import numpy as np\n",
    "import pandas as pd\n",
    "import load_data as ld\n",
    "import copy\n",
    "from timeit import default_timer as timer\n",
    "from sklearn.model_selection import train_test_split\n",
    "import scipy.sparse as sparse\n",
    "from scipy.sparse.linalg import spsolve"
   ]
  },
  {
   "cell_type": "code",
   "execution_count": 2,
   "metadata": {},
   "outputs": [],
   "source": [
    "class implicit_MF():\n",
    "    \n",
    "    def __init__(self, R, latent_size=50, ld=1e-3, epochs=200):\n",
    "        \n",
    "        self._R = R             # explicit matrix\n",
    "        self._P = copy.deepcopy(self._R)    # implicit matrix\n",
    "        self._P[self._P != 0] = 1\n",
    "        self._N, self._M = R.shape\n",
    "        self._latent = latent_size\n",
    "        self._epochs =epochs\n",
    "        self._alpha = 40\n",
    "        self._C = 1 + self._alpha * self._R\n",
    "        self._lambda = ld\n",
    "        \n",
    "        rstate = np.random.RandomState(0)\n",
    "        #self._X = np.random.normal(0, 0.1, size=(self._N, latent_size))\n",
    "        #self._Y = np.random.normal(0, 0.1, size=(self._M, latent_size))\n",
    "        self._X = sparse.csr_matrix(rstate.normal(size=(self._N, latent_size))) # Random numbers in a m x rank shape\n",
    "        self._Y = sparse.csr_matrix(rstate.normal(size=(self._M, latent_size))) # Normally this would be rank x n but we can \n",
    "        \n",
    "    def update(self):\n",
    "\n",
    "        lambda_eye = self._lambda * sparse.eye(self._latent) # Our regularization term lambda*I. \n",
    "        \n",
    "        self._YTY = self._Y.T.dot(self._Y)\n",
    "        for u in range(self._N):\n",
    "            #C_u = np.diag(self._C[u, :])\n",
    "            C_u = sparse.diags(self._C[u, :])\n",
    "            YCu_IY = self._Y.T @ (C_u - np.identity(self._M)) @ self._Y\n",
    "            YCuY = self._YTY + YCu_IY + lambda_eye #self._lambda * np.identity(self._latent)\n",
    "            self._X[u, :] =  spsolve(YCuY, self._Y.T @ C_u @ self._P[u, :] )  #np.linalg.inv(YCuY) @ self._Y.T @ C_u @ self._P[u, :] \n",
    "\n",
    "        self._XTX = self._X.T.dot(self._X)\n",
    "        for i in range(self._M):\n",
    "            #C_i = np.diag(self._C[:, i])\n",
    "            C_i = sparse.diags(self._C[:, i])\n",
    "            XCu_IX = self._X.T @ (C_i - np.identity(self._N)) @ self._X\n",
    "            XCuX = self._XTX + XCu_IX + lambda_eye #self._lambda * np.identity(self._latent)\n",
    "            self._Y[i, :] = spsolve(XCuX, self._X.T @ C_i @ self._P[:, i] )  #np.linalg.inv(XCuX) @ self._X.T @ C_i @ self._P[:, i]\n",
    "            \n",
    "    def cost(self):\n",
    "        loss = np.sum(np.multiply(self._C, np.square(self._P - self._X @ self._Y.T))) + self._lambda * (sparse.linalg.norm(self._X) + sparse.linalg.norm(self._Y))\n",
    "        # (np.linalg.norm(self._X) + np.linalg.norm(self._Y))\n",
    "        return loss\n",
    "\n",
    "    def train(self):\n",
    "        \n",
    "        train_cost_list = []\n",
    "        start_time = timer()\n",
    "        for epoch in range(self._epochs):\n",
    "            start = timer()\n",
    "            \n",
    "            self.update()\n",
    "            train_cost = self.cost()\n",
    "                \n",
    "            train_cost_list.append(train_cost)\n",
    "            \n",
    "            print('traning iteration:{: d} ,train_cost:{: f}, time:{: f}'.format(epoch, train_cost, timer() - start))\n",
    "                \n",
    "        print(\"Total time for training : %.4f\" % (timer()-start_time))\n",
    "        return self._X, self._Y, train_cost_list   "
   ]
  },
  {
   "cell_type": "code",
   "execution_count": 3,
   "metadata": {},
   "outputs": [
    {
     "name": "stdout",
     "output_type": "stream",
     "text": [
      "N, M :  943 1682\n"
     ]
    }
   ],
   "source": [
    "df = ld.load_rating_data()\n",
    "N, M = len(df.user_id.unique()), len(df.item_id.unique())\n",
    "ratio = 0.8\n",
    "print(\"N, M : \", N, M)\n",
    "train, test = train_test_split(df, test_size=1-ratio)\n",
    "val, test = train_test_split(test, test_size=0.5)\n",
    "train.reset_index(drop=True, inplace=True)\n",
    "val.reset_index(drop=True, inplace=True)\n",
    "test.reset_index(drop=True, inplace=True)"
   ]
  },
  {
   "cell_type": "code",
   "execution_count": 4,
   "metadata": {},
   "outputs": [],
   "source": [
    "R = np.zeros([N, M])    \n",
    "for i in range(len(train)):\n",
    "    R[int(train.iloc[i, 0])-1, int(train.iloc[i, 1])-1] = float(train.iloc[i, 2])\n",
    "\n",
    "val_R = np.zeros([N, M])    \n",
    "for i in range(len(val)):\n",
    "    val_R[int(val.iloc[i, 0])-1, int(val.iloc[i, 1])-1] = float(val.iloc[i, 2])"
   ]
  },
  {
   "cell_type": "code",
   "execution_count": 6,
   "metadata": {},
   "outputs": [
    {
     "name": "stdout",
     "output_type": "stream",
     "text": [
      "traning iteration: 0 ,train_cost: 1993132.769117, time: 180.515335\n",
      "traning iteration: 1 ,train_cost: 431483.903921, time: 218.958199\n",
      "traning iteration: 2 ,train_cost: 373191.889146, time: 201.829616\n",
      "traning iteration: 3 ,train_cost: 354934.613776, time: 202.283791\n",
      "traning iteration: 4 ,train_cost: 345737.127822, time: 199.429835\n",
      "traning iteration: 5 ,train_cost: 340215.169925, time: 202.316178\n",
      "traning iteration: 6 ,train_cost: 336595.296202, time: 190.645439\n",
      "traning iteration: 7 ,train_cost: 334070.961879, time: 105.498459\n",
      "traning iteration: 8 ,train_cost: 332229.099061, time: 114.445591\n",
      "traning iteration: 9 ,train_cost: 330834.640141, time: 111.966656\n",
      "Total time for training : 1727.8912\n"
     ]
    }
   ],
   "source": [
    "occf1 = implicit_MF(R, latent_size=20, ld=0.002, epochs=10)\n",
    "U1, V1, train_cost_list1 = occf1.train()"
   ]
  },
  {
   "cell_type": "code",
   "execution_count": 7,
   "metadata": {},
   "outputs": [
    {
     "data": {
      "image/png": "[encoded data removed]",
      "text/plain": [
       "<Figure size 432x288 with 1 Axes>"
      ]
     },
     "metadata": {
      "needs_background": "light"
     },
     "output_type": "display_data"
    }
   ],
   "source": [
    "import matplotlib.pyplot as plt\n",
    "\n",
    "# Check performance by plotting train and test errors\n",
    "n = 10\n",
    "m = 0\n",
    "plt.plot(range(m, n), train_cost_list1[m:n], marker='o', label='Test Data')\n",
    "plt.title('The MovieLens Dataset Learning Curve')\n",
    "plt.xlabel('Number of Epochs')\n",
    "plt.ylabel('cost')\n",
    "plt.legend()\n",
    "plt.grid()\n",
    "plt.show()"
   ]
  }
 ],
 "metadata": {
  "kernelspec": {
   "display_name": "Python 3.8.10 64-bit (windows store)",
   "language": "python",
   "name": "python3"
  },
  "language_info": {
   "codemirror_mode": {
    "name": "ipython",
    "version": 3
   },
   "file_extension": ".py",
   "mimetype": "text/x-python",
   "name": "python",
   "nbconvert_exporter": "python",
   "pygments_lexer": "ipython3",
   "version": "3.8.10"
  },
  "orig_nbformat": 4,
  "vscode": {
   "interpreter": {
    "hash": "6ea2312a96e00fc4424234a471f608c001e599e03afda339b55d660fc50d3e28"
   }
  }
 },
 "nbformat": 4,
 "nbformat_minor": 2
}
