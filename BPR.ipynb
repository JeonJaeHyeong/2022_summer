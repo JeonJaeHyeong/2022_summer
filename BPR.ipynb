{
 "cells": [
  {
   "cell_type": "code",
   "execution_count": 1,
   "metadata": {},
   "outputs": [],
   "source": [
    "import numpy as np\n",
    "import pandas as pd\n",
    "import load_data as ld\n",
    "from utils import sigmoid\n",
    "import copy\n",
    "from timeit import default_timer as timer\n",
    "from sklearn.model_selection import train_test_split"
   ]
  },
  {
   "cell_type": "code",
   "execution_count": 70,
   "metadata": {},
   "outputs": [],
   "source": [
    "class BPR():\n",
    "    \n",
    "    def __init__(self, R, val_R, latent_size=50, ld=1e-3, learning_rate=0.001, epochs=200):\n",
    "        \n",
    "        self._R = R             # explicit matrix\n",
    "        self._val_R = val_R\n",
    "        self._I = copy.deepcopy(self._R)    # implicit matrix\n",
    "        self._I[self._I != 0] = 1\n",
    "        self._val_I = copy.deepcopy(self._val_R)    # implicit matrix\n",
    "        self._val_I[self._val_I != 0] = 1\n",
    "        self._N, self._M = R.shape\n",
    "        self._latent = latent_size\n",
    "        self._lr = learning_rate\n",
    "        self._epochs =epochs\n",
    "        self._lambda = ld        \n",
    "        self._P = np.random.normal(0, 0.1, size=(self._N, latent_size))\n",
    "        self._Q = np.random.normal(0, 0.1, size=(self._M, latent_size))\n",
    "                \n",
    "    def update(self):\n",
    "        for iter in range(10000):\n",
    "            x, y = np.nonzero(self._I)\n",
    "            while(True):\n",
    "                u = np.random.choice(x)\n",
    "                i = np.random.choice(np.nonzero(self._I[u, :])[0])\n",
    "                arr = np.where(self._I[u, :] == 0)[0]\n",
    "                if arr[0].size == 0:\n",
    "                    continue\n",
    "                else:\n",
    "                    j = np.random.choice(arr)\n",
    "                    break\n",
    "            \n",
    "            xuij = self._P[u].dot(self._Q[i].T) - self._P[u].dot(self._Q[j].T)\n",
    "            sigmoid_prime = sigmoid(xuij) * np.exp(-xuij)\n",
    "            self._P[u, :] += self._lr * (sigmoid_prime * (self._Q[i] - self._Q[j]) - 2 * self._lambda * self._P[u])\n",
    "            self._Q[i, :] += self._lr * (sigmoid_prime * self._P[u] - 2 * self._lambda * self._Q[i])\n",
    "            self._Q[j, :] += self._lr * (-1 * sigmoid_prime * self._P[u] - 2 * self._lambda * self._Q[j])\n",
    "            \n",
    "    def AUC(self):\n",
    "        auc = 0\n",
    "        u_nonzero, i_nonzero = self._val_R.nonzero()\n",
    "        count = 0\n",
    "        for i in range(100): #for time limitation (this is original code) => #for u in u_nonzero:\n",
    "            u = np.random.choice(u_nonzero) # for time limitation\n",
    "            count = count + 1\n",
    "            sum = 0\n",
    "            self._X_hat = self._P.dot(self._Q.T)\n",
    "            i_idx = np.nonzero(self._val_I[u, :])\n",
    "            j_idx = np.where(self._val_I[u, :] + self._I[u, :] == 0)\n",
    "            for i in i_idx[0]:\n",
    "                for j in j_idx[0]:\n",
    "                    if self._X_hat[u, i] > self._X_hat[u, j] :\n",
    "                        sum = sum + 1\n",
    "            auc = auc + (sum / (len(i_idx[0])*len(j_idx[0])))\n",
    "        auc = auc / 100 # ORIGINAL CODE => len(u_nonzero)\n",
    "\n",
    "        return auc\n",
    "\n",
    "    def train(self):\n",
    "        \n",
    "        train_auc_list = []\n",
    "        start_time = timer()\n",
    "        for epoch in range(self._epochs):\n",
    "            start = timer()\n",
    "            \n",
    "            self.update()\n",
    "            train_auc = self.AUC()\n",
    "                \n",
    "            train_auc_list.append(train_auc)\n",
    "            \n",
    "            print('traning iteration:{: d} ,train_auc:{: f}, time:{: f}'.format(epoch, train_auc, timer() - start))\n",
    "                \n",
    "        print(\"Total time for training : %.4f\" % (timer()-start_time))\n",
    "        return self._P, self._Q, train_auc_list   "
   ]
  },
  {
   "cell_type": "code",
   "execution_count": 4,
   "metadata": {},
   "outputs": [
    {
     "name": "stdout",
     "output_type": "stream",
     "text": [
      "N, M :  943 1682\n"
     ]
    }
   ],
   "source": [
    "df = ld.load_rating_data()\n",
    "N, M = len(df.user_id.unique()), len(df.item_id.unique())\n",
    "ratio = 0.8\n",
    "print(\"N, M : \", N, M)\n",
    "train, test = train_test_split(df, test_size=1-ratio)\n",
    "val, test = train_test_split(test, test_size=0.5)\n",
    "train.reset_index(drop=True, inplace=True)\n",
    "val.reset_index(drop=True, inplace=True)\n",
    "test.reset_index(drop=True, inplace=True)"
   ]
  },
  {
   "cell_type": "code",
   "execution_count": 5,
   "metadata": {},
   "outputs": [],
   "source": [
    "R = np.zeros([N, M])    \n",
    "for i in range(len(train)):\n",
    "    R[int(train.iloc[i, 0])-1, int(train.iloc[i, 1])-1] = float(train.iloc[i, 2])\n",
    "\n",
    "val_R = np.zeros([N, M])    \n",
    "for i in range(len(val)):\n",
    "    val_R[int(val.iloc[i, 0])-1, int(val.iloc[i, 1])-1] = float(val.iloc[i, 2])"
   ]
  },
  {
   "cell_type": "code",
   "execution_count": 71,
   "metadata": {},
   "outputs": [
    {
     "name": "stdout",
     "output_type": "stream",
     "text": [
      "traning iteration: 0 ,train_auc: 0.478992, time: 199.281462\n",
      "traning iteration: 1 ,train_auc: 0.496877, time: 155.527351\n",
      "traning iteration: 2 ,train_auc: 0.555537, time: 175.204518\n",
      "traning iteration: 3 ,train_auc: 0.695389, time: 160.768553\n",
      "traning iteration: 4 ,train_auc: 0.776306, time: 157.585831\n",
      "traning iteration: 5 ,train_auc: 0.804919, time: 150.143914\n",
      "traning iteration: 6 ,train_auc: 0.829584, time: 204.507174\n",
      "traning iteration: 7 ,train_auc: 0.818018, time: 278.272837\n",
      "traning iteration: 8 ,train_auc: 0.835774, time: 264.596196\n",
      "traning iteration: 9 ,train_auc: 0.852652, time: 254.375997\n",
      "Total time for training : 2000.2664\n"
     ]
    },
    {
     "ename": "AttributeError",
     "evalue": "'BPR' object has no attribute '_X'",
     "output_type": "error",
     "traceback": [
      "\u001b[1;31m---------------------------------------------------------------------------\u001b[0m",
      "\u001b[1;31mAttributeError\u001b[0m                            Traceback (most recent call last)",
      "\u001b[1;32mc:\\Users\\ASUS\\Desktop\\KAIST\\KAIST\\개별연구\\논문구현\\BPR.ipynb Cell 5'\u001b[0m in \u001b[0;36m<cell line: 2>\u001b[1;34m()\u001b[0m\n\u001b[0;32m      <a href='vscode-notebook-cell:/c%3A/Users/ASUS/Desktop/KAIST/KAIST/%EA%B0%9C%EB%B3%84%EC%97%B0%EA%B5%AC/%EB%85%BC%EB%AC%B8%EA%B5%AC%ED%98%84/BPR.ipynb#ch0000004?line=0'>1</a>\u001b[0m bpr \u001b[39m=\u001b[39m BPR(R, val_R, latent_size\u001b[39m=\u001b[39m\u001b[39m20\u001b[39m, ld\u001b[39m=\u001b[39m\u001b[39m0.01\u001b[39m, learning_rate\u001b[39m=\u001b[39m\u001b[39m0.1\u001b[39m, epochs\u001b[39m=\u001b[39m\u001b[39m10\u001b[39m)\n\u001b[1;32m----> <a href='vscode-notebook-cell:/c%3A/Users/ASUS/Desktop/KAIST/KAIST/%EA%B0%9C%EB%B3%84%EC%97%B0%EA%B5%AC/%EB%85%BC%EB%AC%B8%EA%B5%AC%ED%98%84/BPR.ipynb#ch0000004?line=1'>2</a>\u001b[0m U1, V1, train_rmse_list1, val_rmse_list1 \u001b[39m=\u001b[39m bpr\u001b[39m.\u001b[39;49mtrain()\n",
      "\u001b[1;32mc:\\Users\\ASUS\\Desktop\\KAIST\\KAIST\\개별연구\\논문구현\\BPR.ipynb Cell 2'\u001b[0m in \u001b[0;36mBPR.train\u001b[1;34m(self)\u001b[0m\n\u001b[0;32m     <a href='vscode-notebook-cell:/c%3A/Users/ASUS/Desktop/KAIST/KAIST/%EA%B0%9C%EB%B3%84%EC%97%B0%EA%B5%AC/%EB%85%BC%EB%AC%B8%EA%B5%AC%ED%98%84/BPR.ipynb#ch0000001?line=88'>89</a>\u001b[0m     \u001b[39mprint\u001b[39m(\u001b[39m'\u001b[39m\u001b[39mtraning iteration:\u001b[39m\u001b[39m{: d}\u001b[39;00m\u001b[39m ,train_auc:\u001b[39m\u001b[39m{: f}\u001b[39;00m\u001b[39m, time:\u001b[39m\u001b[39m{: f}\u001b[39;00m\u001b[39m'\u001b[39m\u001b[39m.\u001b[39mformat(epoch, train_auc, timer() \u001b[39m-\u001b[39m start))\n\u001b[0;32m     <a href='vscode-notebook-cell:/c%3A/Users/ASUS/Desktop/KAIST/KAIST/%EA%B0%9C%EB%B3%84%EC%97%B0%EA%B5%AC/%EB%85%BC%EB%AC%B8%EA%B5%AC%ED%98%84/BPR.ipynb#ch0000001?line=90'>91</a>\u001b[0m \u001b[39mprint\u001b[39m(\u001b[39m\"\u001b[39m\u001b[39mTotal time for training : \u001b[39m\u001b[39m%.4f\u001b[39;00m\u001b[39m\"\u001b[39m \u001b[39m%\u001b[39m (timer()\u001b[39m-\u001b[39mstart_time))\n\u001b[1;32m---> <a href='vscode-notebook-cell:/c%3A/Users/ASUS/Desktop/KAIST/KAIST/%EA%B0%9C%EB%B3%84%EC%97%B0%EA%B5%AC/%EB%85%BC%EB%AC%B8%EA%B5%AC%ED%98%84/BPR.ipynb#ch0000001?line=91'>92</a>\u001b[0m \u001b[39mreturn\u001b[39;00m \u001b[39mself\u001b[39;49m\u001b[39m.\u001b[39;49m_X, \u001b[39mself\u001b[39m\u001b[39m.\u001b[39m_Y, train_auc_list\n",
      "\u001b[1;31mAttributeError\u001b[0m: 'BPR' object has no attribute '_X'"
     ]
    }
   ],
   "source": [
    "bpr1 = BPR(R, val_R, latent_size=20, ld=0.01, learning_rate=0.1, epochs=10)\n",
    "P1, Q1, train_auc_list1, val_auc_list1 = bpr1.train()"
   ]
  }
 ],
 "metadata": {
  "kernelspec": {
   "display_name": "Python 3.8.10 64-bit (windows store)",
   "language": "python",
   "name": "python3"
  },
  "language_info": {
   "codemirror_mode": {
    "name": "ipython",
    "version": 3
   },
   "file_extension": ".py",
   "mimetype": "text/x-python",
   "name": "python",
   "nbconvert_exporter": "python",
   "pygments_lexer": "ipython3",
   "version": "3.8.10"
  },
  "orig_nbformat": 4,
  "vscode": {
   "interpreter": {
    "hash": "6ea2312a96e00fc4424234a471f608c001e599e03afda339b55d660fc50d3e28"
   }
  }
 },
 "nbformat": 4,
 "nbformat_minor": 2
}
