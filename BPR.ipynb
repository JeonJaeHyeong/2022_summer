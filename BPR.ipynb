{
 "cells": [
  {
   "cell_type": "code",
   "execution_count": 73,
   "metadata": {},
   "outputs": [],
   "source": [
    "import numpy as np\n",
    "import pandas as pd\n",
    "import load_data as ld\n",
    "from utils import sigmoid\n",
    "import copy\n",
    "from timeit import default_timer as timer\n",
    "from sklearn.model_selection import train_test_split"
   ]
  },
  {
   "cell_type": "code",
   "execution_count": 74,
   "metadata": {},
   "outputs": [],
   "source": [
    "class BPR():\n",
    "    \n",
    "    def __init__(self, R, val_R, latent_size=50, ld=1e-3, learning_rate=0.001, epochs=200):\n",
    "        \n",
    "        self._R = R             # explicit matrix\n",
    "        self._val_R = val_R\n",
    "        self._I = copy.deepcopy(self._R)    # implicit matrix\n",
    "        self._I[self._I != 0] = 1\n",
    "        self._val_I = copy.deepcopy(self._val_R)    # implicit matrix\n",
    "        self._val_I[self._val_I != 0] = 1\n",
    "        self._N, self._M = R.shape\n",
    "        self._latent = latent_size\n",
    "        self._lr = learning_rate\n",
    "        self._epochs =epochs\n",
    "        self._lambda = ld        \n",
    "        self._P = np.random.normal(0, 0.1, size=(self._N, latent_size))\n",
    "        self._Q = np.random.normal(0, 0.1, size=(self._M, latent_size))\n",
    "                \n",
    "    def update(self):\n",
    "        for iter in range(10000):\n",
    "            x, y = np.nonzero(self._I)\n",
    "            while(True):\n",
    "                u = np.random.choice(x)\n",
    "                i = np.random.choice(np.nonzero(self._I[u, :])[0])\n",
    "                arr = np.where(self._I[u, :] == 0)[0]\n",
    "                if arr[0].size == 0:\n",
    "                    continue\n",
    "                else:\n",
    "                    j = np.random.choice(arr)\n",
    "                    break\n",
    "            \n",
    "            xuij = self._P[u].dot(self._Q[i].T) - self._P[u].dot(self._Q[j].T)\n",
    "            sigmoid_prime = sigmoid(xuij) * np.exp(-xuij)\n",
    "            self._P[u, :] += self._lr * (sigmoid_prime * (self._Q[i] - self._Q[j]) - 2 * self._lambda * self._P[u])\n",
    "            self._Q[i, :] += self._lr * (sigmoid_prime * self._P[u] - 2 * self._lambda * self._Q[i])\n",
    "            self._Q[j, :] += self._lr * (-1 * sigmoid_prime * self._P[u] - 2 * self._lambda * self._Q[j])\n",
    "            \n",
    "    def AUC(self):\n",
    "        auc = 0\n",
    "        u_nonzero, i_nonzero = self._val_R.nonzero()\n",
    "        count = 0\n",
    "        for i in range(100): #for time limitation (this is original code) => #for u in u_nonzero:\n",
    "            u = np.random.choice(u_nonzero) # for time limitation\n",
    "            count = count + 1\n",
    "            sum = 0\n",
    "            self._X_hat = self._P.dot(self._Q.T)\n",
    "            i_idx = np.nonzero(self._val_I[u, :])\n",
    "            j_idx = np.where(self._val_I[u, :] + self._I[u, :] == 0)\n",
    "            for i in i_idx[0]:\n",
    "                for j in j_idx[0]:\n",
    "                    if self._X_hat[u, i] > self._X_hat[u, j] :\n",
    "                        sum = sum + 1\n",
    "            auc = auc + (sum / (len(i_idx[0])*len(j_idx[0])))\n",
    "        auc = auc / 100 # ORIGINAL CODE => len(u_nonzero)\n",
    "\n",
    "        return auc\n",
    "\n",
    "    def train(self):\n",
    "        \n",
    "        auc_list = []\n",
    "        start_time = timer()\n",
    "        for epoch in range(self._epochs):\n",
    "            start = timer()\n",
    "            \n",
    "            self.update()\n",
    "            train_auc = self.AUC()\n",
    "                \n",
    "            auc_list.append(train_auc)\n",
    "            \n",
    "            print('traning iteration:{: d} ,train_auc:{: f}, time:{: f}'.format(epoch, train_auc, timer() - start))\n",
    "                \n",
    "        print(\"Total time for training : %.4f\" % (timer()-start_time))\n",
    "        return self._P, self._Q, auc_list   "
   ]
  },
  {
   "cell_type": "code",
   "execution_count": 75,
   "metadata": {},
   "outputs": [
    {
     "name": "stdout",
     "output_type": "stream",
     "text": [
      "N, M :  943 1682\n"
     ]
    }
   ],
   "source": [
    "df = ld.load_rating_data()\n",
    "N, M = len(df.user_id.unique()), len(df.item_id.unique())\n",
    "ratio = 0.8\n",
    "print(\"N, M : \", N, M)\n",
    "train, test = train_test_split(df, test_size=1-ratio)\n",
    "val, test = train_test_split(test, test_size=0.5)\n",
    "train.reset_index(drop=True, inplace=True)\n",
    "val.reset_index(drop=True, inplace=True)\n",
    "test.reset_index(drop=True, inplace=True)"
   ]
  },
  {
   "cell_type": "code",
   "execution_count": 76,
   "metadata": {},
   "outputs": [],
   "source": [
    "R = np.zeros([N, M])    \n",
    "for i in range(len(train)):\n",
    "    R[int(train.iloc[i, 0])-1, int(train.iloc[i, 1])-1] = float(train.iloc[i, 2])\n",
    "\n",
    "val_R = np.zeros([N, M])    \n",
    "for i in range(len(val)):\n",
    "    val_R[int(val.iloc[i, 0])-1, int(val.iloc[i, 1])-1] = float(val.iloc[i, 2])"
   ]
  },
  {
   "cell_type": "code",
   "execution_count": 78,
   "metadata": {},
   "outputs": [],
   "source": [
    "bpr1 = BPR(R, val_R, latent_size=20, ld=0.01, learning_rate=0.1, epochs=10)\n",
    "P1, Q1, auc_list1 = bpr1.train()"
   ]
  },
  {
   "cell_type": "code",
   "execution_count": null,
   "metadata": {},
   "outputs": [],
   "source": [
    "import matplotlib.pyplot as plt\n",
    "\n",
    "# Check performance by plotting train and test errors\n",
    "n = 10\n",
    "m = 0\n",
    "plt.plot(range(m, n), auc_list1[m:n], marker='o', label='Test Data')\n",
    "plt.title('The MovieLens Dataset Learning Curve')\n",
    "plt.xlabel('Number of Epochs')\n",
    "plt.ylabel('AUC')\n",
    "plt.legend()\n",
    "plt.grid()\n",
    "plt.show()"
   ]
  }
 ],
 "metadata": {
  "kernelspec": {
   "display_name": "Python 3.8.10 64-bit (windows store)",
   "language": "python",
   "name": "python3"
  },
  "language_info": {
   "codemirror_mode": {
    "name": "ipython",
    "version": 3
   },
   "file_extension": ".py",
   "mimetype": "text/x-python",
   "name": "python",
   "nbconvert_exporter": "python",
   "pygments_lexer": "ipython3",
   "version": "3.8.10"
  },
  "orig_nbformat": 4,
  "vscode": {
   "interpreter": {
    "hash": "6ea2312a96e00fc4424234a471f608c001e599e03afda339b55d660fc50d3e28"
   }
  }
 },
 "nbformat": 4,
 "nbformat_minor": 2
}
